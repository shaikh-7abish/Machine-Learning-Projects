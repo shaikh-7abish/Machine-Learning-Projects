{
  "nbformat": 4,
  "nbformat_minor": 0,
  "metadata": {
    "colab": {
      "provenance": []
    },
    "kernelspec": {
      "name": "python3",
      "display_name": "Python 3"
    },
    "language_info": {
      "name": "python"
    }
  },
  "cells": [
    {
      "cell_type": "code",
      "source": [
        "!wget https://storage.googleapis.com/tensorflow-1-public/course2/week4/rps.zip"
      ],
      "metadata": {
        "colab": {
          "base_uri": "https://localhost:8080/"
        },
        "id": "YtZjGp0hLr7X",
        "outputId": "cc331433-ba0c-4356-908c-dd8a9c657fa7"
      },
      "execution_count": null,
      "outputs": [
        {
          "output_type": "stream",
          "name": "stdout",
          "text": [
            "--2023-08-26 09:31:12--  https://storage.googleapis.com/tensorflow-1-public/course2/week4/rps.zip\n",
            "Resolving storage.googleapis.com (storage.googleapis.com)... 142.250.141.128, 142.251.2.128, 74.125.137.128, ...\n",
            "Connecting to storage.googleapis.com (storage.googleapis.com)|142.250.141.128|:443... connected.\n",
            "HTTP request sent, awaiting response... 200 OK\n",
            "Length: 200682221 (191M) [application/zip]\n",
            "Saving to: ‘rps.zip’\n",
            "\n",
            "rps.zip             100%[===================>] 191.38M   147MB/s    in 1.3s    \n",
            "\n",
            "2023-08-26 09:31:13 (147 MB/s) - ‘rps.zip’ saved [200682221/200682221]\n",
            "\n"
          ]
        }
      ]
    },
    {
      "cell_type": "code",
      "source": [
        "import zipfile\n",
        "train_zip = 'rps.zip'\n",
        "to = '/content/'\n",
        "with zipfile.ZipFile(train_zip, 'r') as zip_ref:\n",
        "  zip_ref.extractall(to)"
      ],
      "metadata": {
        "id": "OUDFQBtoLv0V"
      },
      "execution_count": null,
      "outputs": []
    },
    {
      "cell_type": "code",
      "execution_count": null,
      "metadata": {
        "colab": {
          "base_uri": "https://localhost:8080/"
        },
        "id": "LFBE4-uPIt9-",
        "outputId": "1fad8239-c43d-453d-f928-e1b55a0c8654"
      },
      "outputs": [
        {
          "output_type": "stream",
          "name": "stdout",
          "text": [
            "--2023-08-26 09:30:08--  https://storage.googleapis.com/tensorflow-1-public/course2/week4/rps-test-set.zip\n",
            "Resolving storage.googleapis.com (storage.googleapis.com)... 74.125.137.128, 142.250.101.128, 142.250.141.128, ...\n",
            "Connecting to storage.googleapis.com (storage.googleapis.com)|74.125.137.128|:443... connected.\n",
            "HTTP request sent, awaiting response... 200 OK\n",
            "Length: 29516758 (28M) [application/zip]\n",
            "Saving to: ‘rps-test-set.zip’\n",
            "\n",
            "rps-test-set.zip    100%[===================>]  28.15M  73.5MB/s    in 0.4s    \n",
            "\n",
            "2023-08-26 09:30:09 (73.5 MB/s) - ‘rps-test-set.zip’ saved [29516758/29516758]\n",
            "\n"
          ]
        }
      ],
      "source": [
        "!wget https://storage.googleapis.com/tensorflow-1-public/course2/week4/rps-test-set.zip"
      ]
    },
    {
      "cell_type": "code",
      "source": [
        "test_zip = 'rps-test-set.zip'\n",
        "to = '/content/'\n",
        "with zipfile.ZipFile(test_zip, 'r') as zip_ref:\n",
        "  zip_ref.extractall(to)"
      ],
      "metadata": {
        "id": "LZda65HMK3UH"
      },
      "execution_count": null,
      "outputs": []
    },
    {
      "cell_type": "code",
      "source": [
        "train_dir = 'rps/'\n",
        "paper_dir = '/content/rps/paper'\n",
        "rock_dir = '/content/rps/rock'\n",
        "scissors_dir = '/content/rps/scissors'\n",
        "\n",
        "test_dir = 'rps-test-set/'\n",
        "test_paper_dir = '/content/rps-test-set/paper'\n",
        "test_rock_dir = '/content/rps-test-set/rock'\n",
        "test_scissors_dir = '/content/rps-test-set/scissors'"
      ],
      "metadata": {
        "id": "G1OElkTCR0__"
      },
      "execution_count": null,
      "outputs": []
    },
    {
      "cell_type": "code",
      "source": [
        "import os\n",
        "\n",
        "print('TRAINING')\n",
        "print('Total Paper Images for : ', len(os.listdir(paper_dir)))\n",
        "print('Total Rock Images for : ', len(os.listdir(rock_dir)))\n",
        "print('Total Scissor Images for : ', len(os.listdir(scissors_dir)))\n",
        "print('-------------------------------------------')\n",
        "print('TESTING')\n",
        "print('Total Paper Images for : ', len(os.listdir(test_paper_dir)))\n",
        "print('Total Rock Images for : ', len(os.listdir(test_rock_dir)))\n",
        "print('Total Scissor Images for : ', len(os.listdir(test_scissors_dir)))"
      ],
      "metadata": {
        "colab": {
          "base_uri": "https://localhost:8080/"
        },
        "id": "Qj4YLDwjLarx",
        "outputId": "1c311a65-d392-4503-88d0-365e170df58d"
      },
      "execution_count": null,
      "outputs": [
        {
          "output_type": "stream",
          "name": "stdout",
          "text": [
            "TRAINING\n",
            "Total Paper Images for :  840\n",
            "Total Rock Images for :  840\n",
            "Total Scissor Images for :  840\n",
            "-------------------------------------------\n",
            "TESTING\n",
            "Total Paper Images for :  124\n",
            "Total Rock Images for :  124\n",
            "Total Scissor Images for :  124\n"
          ]
        }
      ]
    },
    {
      "cell_type": "code",
      "source": [
        "import tensorflow as tf\n",
        "\n",
        "model = tf.keras.models.Sequential([\n",
        "    tf.keras.layers.Conv2D(16, (3,3), input_shape = (150,150,3), activation = 'relu'),\n",
        "    tf.keras.layers.MaxPooling2D(2,2),\n",
        "\n",
        "    tf.keras.layers.Conv2D(32, (3,3), activation = 'relu'),\n",
        "    tf.keras.layers.MaxPooling2D(2,2),\n",
        "\n",
        "    tf.keras.layers.Conv2D(64, (3,3), activation = 'relu'),\n",
        "    tf.keras.layers.MaxPooling2D(2,2),\n",
        "\n",
        "    tf.keras.layers.Flatten(),\n",
        "    tf.keras.layers.Dropout(0.5),\n",
        "    tf.keras.layers.Dense(512, activation = 'relu'),\n",
        "    tf.keras.layers.Dense(3, activation = 'softmax')\n",
        "])\n",
        "\n",
        "model.summary()"
      ],
      "metadata": {
        "colab": {
          "base_uri": "https://localhost:8080/"
        },
        "id": "u9iOr9BWOxmm",
        "outputId": "2d16d3a8-2867-4299-bbcb-2cf6e5fc6dc8"
      },
      "execution_count": null,
      "outputs": [
        {
          "output_type": "stream",
          "name": "stdout",
          "text": [
            "Model: \"sequential\"\n",
            "_________________________________________________________________\n",
            " Layer (type)                Output Shape              Param #   \n",
            "=================================================================\n",
            " conv2d (Conv2D)             (None, 148, 148, 16)      448       \n",
            "                                                                 \n",
            " max_pooling2d (MaxPooling2D  (None, 74, 74, 16)       0         \n",
            " )                                                               \n",
            "                                                                 \n",
            " conv2d_1 (Conv2D)           (None, 72, 72, 32)        4640      \n",
            "                                                                 \n",
            " max_pooling2d_1 (MaxPooling  (None, 36, 36, 32)       0         \n",
            " 2D)                                                             \n",
            "                                                                 \n",
            " conv2d_2 (Conv2D)           (None, 34, 34, 64)        18496     \n",
            "                                                                 \n",
            " max_pooling2d_2 (MaxPooling  (None, 17, 17, 64)       0         \n",
            " 2D)                                                             \n",
            "                                                                 \n",
            " flatten (Flatten)           (None, 18496)             0         \n",
            "                                                                 \n",
            " dropout (Dropout)           (None, 18496)             0         \n",
            "                                                                 \n",
            " dense (Dense)               (None, 512)               9470464   \n",
            "                                                                 \n",
            " dense_1 (Dense)             (None, 3)                 1539      \n",
            "                                                                 \n",
            "=================================================================\n",
            "Total params: 9,495,587\n",
            "Trainable params: 9,495,587\n",
            "Non-trainable params: 0\n",
            "_________________________________________________________________\n"
          ]
        }
      ]
    },
    {
      "cell_type": "code",
      "source": [
        "model.compile(optimizer = 'RMSProp', loss = 'categorical_crossentropy', metrics = 'accuracy')"
      ],
      "metadata": {
        "id": "7_2y5BO5UjQb"
      },
      "execution_count": null,
      "outputs": []
    },
    {
      "cell_type": "code",
      "source": [
        "from tensorflow.keras.preprocessing.image import ImageDataGenerator\n",
        "\n",
        "train_datagen = ImageDataGenerator(rescale = 1/255,\n",
        "                                   rotation_range=40,\n",
        "                                   width_shift_range=0.2,\n",
        "                                   height_shift_range=0.2,\n",
        "                                   shear_range=0.2,\n",
        "                                   zoom_range=0.2,\n",
        "                                   horizontal_flip=True,\n",
        "                                   fill_mode='nearest')\n",
        "\n",
        "train_generator = train_datagen.flow_from_directory(train_dir,\n",
        "                                                    target_size = (150,150),\n",
        "                                                    class_mode = 'categorical',\n",
        "                                                    batch_size = 120)\n",
        "\n",
        "test_datagen = ImageDataGenerator(rescale = 1/255)\n",
        "\n",
        "test_generator = test_datagen.flow_from_directory(test_dir,\n",
        "                                                    target_size = (150,150),\n",
        "                                                    class_mode = 'categorical',\n",
        "                                                    batch_size = 120)"
      ],
      "metadata": {
        "colab": {
          "base_uri": "https://localhost:8080/"
        },
        "id": "JdnQWvsVVa6f",
        "outputId": "11e6cca3-e422-482f-c7dd-eeab974d6402"
      },
      "execution_count": null,
      "outputs": [
        {
          "output_type": "stream",
          "name": "stdout",
          "text": [
            "Found 2520 images belonging to 3 classes.\n",
            "Found 372 images belonging to 3 classes.\n"
          ]
        }
      ]
    },
    {
      "cell_type": "code",
      "source": [
        "history = model.fit(train_generator,\n",
        "                    epochs = 10,\n",
        "                    steps_per_epoch=20,\n",
        "                    verbose = 1,\n",
        "                    validation_data = test_generator)"
      ],
      "metadata": {
        "colab": {
          "base_uri": "https://localhost:8080/"
        },
        "id": "3ExXSjs8XK0i",
        "outputId": "34f0528a-32bf-48f2-be31-2ce2a58d9a5a"
      },
      "execution_count": null,
      "outputs": [
        {
          "output_type": "stream",
          "name": "stdout",
          "text": [
            "Epoch 1/10\n",
            "20/20 [==============================] - 86s 4s/step - loss: 1.6209 - accuracy: 0.3696 - val_loss: 1.0820 - val_accuracy: 0.3468\n",
            "Epoch 2/10\n",
            "20/20 [==============================] - 81s 4s/step - loss: 1.0637 - accuracy: 0.4300 - val_loss: 1.2672 - val_accuracy: 0.3333\n",
            "Epoch 3/10\n",
            "20/20 [==============================] - 84s 4s/step - loss: 1.0944 - accuracy: 0.4604 - val_loss: 0.8979 - val_accuracy: 0.7339\n",
            "Epoch 4/10\n",
            "20/20 [==============================] - 84s 4s/step - loss: 0.8909 - accuracy: 0.5996 - val_loss: 0.5858 - val_accuracy: 0.7984\n",
            "Epoch 5/10\n",
            "20/20 [==============================] - 81s 4s/step - loss: 0.7809 - accuracy: 0.6417 - val_loss: 0.7737 - val_accuracy: 0.6210\n",
            "Epoch 6/10\n",
            "20/20 [==============================] - 83s 4s/step - loss: 0.6768 - accuracy: 0.6921 - val_loss: 0.3891 - val_accuracy: 0.8763\n",
            "Epoch 7/10\n",
            "20/20 [==============================] - 82s 4s/step - loss: 0.7230 - accuracy: 0.6871 - val_loss: 0.3818 - val_accuracy: 0.9543\n",
            "Epoch 8/10\n",
            "20/20 [==============================] - 83s 4s/step - loss: 0.5532 - accuracy: 0.7725 - val_loss: 0.3374 - val_accuracy: 0.8817\n",
            "Epoch 9/10\n",
            "20/20 [==============================] - 84s 4s/step - loss: 0.5339 - accuracy: 0.7713 - val_loss: 0.2884 - val_accuracy: 0.9677\n",
            "Epoch 10/10\n",
            "20/20 [==============================] - 84s 4s/step - loss: 0.4531 - accuracy: 0.8150 - val_loss: 0.3643 - val_accuracy: 0.7903\n"
          ]
        }
      ]
    },
    {
      "cell_type": "code",
      "source": [
        "import matplotlib.pyplot as plt\n",
        "\n",
        "# Plot the results\n",
        "acc = history.history['accuracy']\n",
        "val_acc = history.history['val_accuracy']\n",
        "loss = history.history['loss']\n",
        "val_loss = history.history['val_loss']\n",
        "\n",
        "epochs = range(len(acc))\n",
        "\n",
        "plt.plot(epochs, acc, 'r', label='Training accuracy')\n",
        "plt.plot(epochs, val_acc, 'b', label='Validation accuracy')\n",
        "plt.title('Training and validation accuracy')\n",
        "plt.legend(loc=0)\n",
        "plt.figure()\n",
        "\n",
        "plt.show()"
      ],
      "metadata": {
        "colab": {
          "base_uri": "https://localhost:8080/",
          "height": 469
        },
        "id": "V298XS5RYBq8",
        "outputId": "322e82c0-16a9-4f13-907f-8b4eaa709798"
      },
      "execution_count": null,
      "outputs": [
        {
          "output_type": "display_data",
          "data": {
            "text/plain": [
              "<Figure size 640x480 with 1 Axes>"
            ],
            "image/png": "[encoded data removed]"
          },
          "metadata": {}
        },
        {
          "output_type": "display_data",
          "data": {
            "text/plain": [
              "<Figure size 640x480 with 0 Axes>"
            ]
          },
          "metadata": {}
        }
      ]
    },
    {
      "cell_type": "code",
      "source": [],
      "metadata": {
        "id": "J9uQo_PUbY_p"
      },
      "execution_count": null,
      "outputs": []
    }
  ]
}